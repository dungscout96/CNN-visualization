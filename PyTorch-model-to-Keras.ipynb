{
 "cells": [
  {
   "cell_type": "code",
   "execution_count": 2,
   "metadata": {},
   "outputs": [],
   "source": [
    "from utils import *\n",
    "# Initialize device information for PyTorch\n",
    "USE_GPU = True\n",
    "\n",
    "dtype = torch.float32 # we will be using float throughout this tutorial\n",
    "\n",
    "if USE_GPU and torch.cuda.is_available():\n",
    "    device = torch.device('cuda')\n",
    "else:\n",
    "    device = torch.device('cpu')\n",
    "\n",
    "# Constant to control how frequently we print train loss\n",
    "print_every = 100\n",
    "\n",
    "print('using device:', device)"
   ]
  },
  {
   "cell_type": "code",
   "execution_count": 3,
   "metadata": {},
   "outputs": [
    {
     "name": "stdout",
     "output_type": "stream",
     "text": [
      "------------------------------------------------------------------------\n",
      "      Layer (type)         Output Shape         Param #     Tr. Param #\n",
      "========================================================================\n",
      "          Conv2d-1     [1, 16, 24, 256]             160             160\n",
      "            ReLU-2     [1, 16, 24, 256]               0               0\n",
      "          Conv2d-3     [1, 16, 24, 256]           2,320           2,320\n",
      "            ReLU-4     [1, 16, 24, 256]               0               0\n",
      "       MaxPool2d-5     [1, 16, 12, 128]               0               0\n",
      "          Conv2d-6     [1, 32, 12, 128]           4,640           4,640\n",
      "            ReLU-7     [1, 32, 12, 128]               0               0\n",
      "          Conv2d-8     [1, 32, 12, 128]           9,248           9,248\n",
      "            ReLU-9     [1, 32, 12, 128]               0               0\n",
      "      MaxPool2d-10       [1, 32, 6, 64]               0               0\n",
      "         Conv2d-11       [1, 64, 6, 64]          18,496          18,496\n",
      "           ReLU-12       [1, 64, 6, 64]               0               0\n",
      "         Conv2d-13       [1, 64, 6, 64]          36,928          36,928\n",
      "           ReLU-14       [1, 64, 6, 64]               0               0\n",
      "         Conv2d-15       [1, 64, 6, 64]          36,928          36,928\n",
      "           ReLU-16       [1, 64, 6, 64]               0               0\n",
      "      MaxPool2d-17       [1, 64, 3, 32]               0               0\n",
      "        Flatten-18            [1, 6144]               0               0\n",
      "         Linear-19            [1, 1024]       6,292,480       6,292,480\n",
      "           ReLU-20            [1, 1024]               0               0\n",
      "        Dropout-21            [1, 1024]               0               0\n",
      "         Linear-22            [1, 1024]       1,049,600       1,049,600\n",
      "           ReLU-23            [1, 1024]               0               0\n",
      "        Dropout-24            [1, 1024]               0               0\n",
      "         Linear-25               [1, 2]           2,050           2,050\n",
      "========================================================================\n",
      "Total params: 7,452,850\n",
      "Trainable params: 7,452,850\n",
      "Non-trainable params: 0\n",
      "------------------------------------------------------------------------\n"
     ]
    },
    {
     "data": {
      "text/plain": [
       "<All keys matched successfully>"
      ]
     },
     "execution_count": 3,
     "metadata": {},
     "output_type": "execute_result"
    }
   ],
   "source": [
    "# Create and show model summary\n",
    "model = create_model(\"vgg\",'raw')\n",
    "from pytorch_model_summary import summary\n",
    "print(summary(model, torch.zeros((1, 1, 24, 256)), show_input=False))\n",
    "model.load_state_dict(torch.load(f'saved-model/vgg-raw/model-vgg-raw-seed0-valacc83-epoch23'))"
   ]
  },
  {
   "cell_type": "code",
   "execution_count": 4,
   "metadata": {},
   "outputs": [
    {
     "name": "stderr",
     "output_type": "stream",
     "text": [
      "Custom shapes isn't supported now.\n",
      "Unable to use `same` padding. Add ZeroPadding2D layer to fix shapes.\n",
      "Unable to use `same` padding. Add ZeroPadding2D layer to fix shapes.\n",
      "Unable to use `same` padding. Add ZeroPadding2D layer to fix shapes.\n"
     ]
    }
   ],
   "source": [
    "# convert to keras\n",
    "from pytorch2keras import pytorch_to_keras\n",
    "input_var = torch.zeros((1, 1, 24, 256))\n",
    "# we should specify shape of the input tensor\n",
    "k_model = pytorch_to_keras(model, input_var, [(1, 24, 256,)], verbose=False, change_ordering=True)\n"
   ]
  },
  {
   "cell_type": "code",
   "execution_count": 5,
   "metadata": {
    "scrolled": true
   },
   "outputs": [
    {
     "name": "stdout",
     "output_type": "stream",
     "text": [
      "WARNING:tensorflow:Compiled the loaded model, but the compiled metrics have yet to be built. `model.compile_metrics` will be empty until you train or evaluate the model.\n"
     ]
    }
   ],
   "source": [
    "k_model.save(\"saved-model/keras-vgg-h5\", save_format='h5')"
   ]
  },
  {
   "cell_type": "code",
   "execution_count": null,
   "metadata": {},
   "outputs": [],
   "source": []
  }
 ],
 "metadata": {
  "colab": {
   "name": "SexPrediction.ipynb",
   "provenance": []
  },
  "kernelspec": {
   "display_name": "Python 3",
   "language": "python",
   "name": "python3"
  },
  "language_info": {
   "codemirror_mode": {
    "name": "ipython",
    "version": 3
   },
   "file_extension": ".py",
   "mimetype": "text/x-python",
   "name": "python",
   "nbconvert_exporter": "python",
   "pygments_lexer": "ipython3",
   "version": "3.7.7"
  }
 },
 "nbformat": 4,
 "nbformat_minor": 4
}
